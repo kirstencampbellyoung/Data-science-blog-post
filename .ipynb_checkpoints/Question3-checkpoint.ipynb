{
 "cells": [
  {
   "cell_type": "code",
   "execution_count": null,
   "id": "2b8fee4c",
   "metadata": {},
   "outputs": [],
   "source": [
    "df_listings = pd.read_csv('./listings.csv')\n",
    "df_listings.info()\n",
    "\n",
    "drop_cols = ['id', 'listing_url', 'scrape_id', 'last_scraped', 'name', 'summary', 'description', 'experiences_offered', \n",
    "             'neighborhood_overview', 'transit','thumbnail_url', 'medium_url', 'picture_url', 'xl_picture_url', \n",
    "             'host_id', 'host_url', 'host_name', 'host_location', 'host_about', 'host_thumbnail_url', 'host_picture_url', \n",
    "            'host_neighbourhood', 'street', 'space', 'notes' , 'city', 'state', 'is_location_exact', \n",
    "             'market', 'calendar_updated', 'first_review', 'last_review', 'jurisdiction_names', 'smart_location', 'country_code',\n",
    "             'country']\n",
    "\n",
    "df_listings.drop(columns = drop_cols, inplace=True)\n",
    "\n",
    "\n",
    "#Columns that should be floats\n",
    "\n",
    "df_listings['host_response_rate'] = df_listings['host_response_rate'].str.replace(\"%\",\"\").astype(float, errors = 'raise')\n",
    "df_listings['host_acceptance_rate'] = df_listings['host_acceptance_rate'].str.replace(\"%\",\"\").astype(float, errors = 'raise')\n",
    "df_listings['price'] = df_listings['price'].str.replace(\"[$, ]\", \"\").astype(\"float\")\n",
    "df_listings['weekly_price'] = df_listings['weekly_price'].str.replace(\"[$, ]\", \"\").astype(float, errors = 'raise')\n",
    "df_listings['monthly_price'] = df_listings['monthly_price'].str.replace(\"[$, ]\", \"\").astype(float, errors = 'raise')\n",
    "df_listings['security_deposit'] = df_listings['security_deposit'].str.replace(\"[$, ]\", \"\").astype(float, errors = 'raise')\n",
    "df_listings['cleaning_fee'] = df_listings['cleaning_fee'].str.replace(\"[$, ]\", \"\").astype(float, errors = 'raise')\n",
    "df_listings['extra_people'] = df_listings['extra_people'].str.replace(\"[$, ]\", \"\").astype(float, errors = 'raise')\n"
   ]
  },
  {
   "cell_type": "code",
   "execution_count": null,
   "id": "cd8b8513",
   "metadata": {},
   "outputs": [],
   "source": [
    "#True and Falses\n",
    "df_listings[\"host_is_superhost\"].replace({'t': 1, 'f': 0}, inplace=True)\n",
    "df_listings[\"host_has_profile_pic\"].replace({'t': 1, 'f': 0}, inplace=True)\n",
    "df_listings[\"host_identity_verified\"].replace({'t': 1, 'f': 0}, inplace=True)\n",
    "df_listings[\"requires_license\"].replace({'t': 1, 'f': 0}, inplace=True)\n",
    "df_listings[\"instant_bookable\"].replace({'t': 1, 'f': 0}, inplace=True)\n",
    "df_listings[\"require_guest_profile_picture\"].replace({'t': 1, 'f': 0}, inplace=True)\n",
    "df_listings[\"require_guest_phone_verification\"].replace({'t': 1, 'f': 0}, inplace=True)\n",
    "df_listings[\"has_availability\"].replace({'t': 1, 'f': 0}, inplace=True)"
   ]
  },
  {
   "cell_type": "code",
   "execution_count": null,
   "id": "9a0d079f",
   "metadata": {},
   "outputs": [],
   "source": [
    "#Fix host\n",
    "\n",
    "df_listings[\"host_since\"] = pd.to_datetime(df_listings[\"host_since\"])\n",
    "df_listings[\"calendar_last_scraped\"] = pd.to_datetime(df_listings[\"calendar_last_scraped\"])\n",
    "df_listings[\"host_for\"] =  (df_listings[\"calendar_last_scraped\"] - df_listings['host_since']).dt.days\n",
    "df_listings.drop(columns = ['host_since', 'calendar_last_scraped'], inplace=True)\n"
   ]
  },
  {
   "cell_type": "code",
   "execution_count": null,
   "id": "939ec2a8",
   "metadata": {},
   "outputs": [],
   "source": [
    "df_listings.info()"
   ]
  },
  {
   "cell_type": "code",
   "execution_count": null,
   "id": "1a8a45b6",
   "metadata": {},
   "outputs": [],
   "source": [
    "numeric_features = df_listings.select_dtypes(include=['float64', 'int64'])\n",
    "numeric_features"
   ]
  },
  {
   "cell_type": "code",
   "execution_count": null,
   "id": "2dac2686",
   "metadata": {},
   "outputs": [],
   "source": [
    "categorical_features = df_listings.select_dtypes(include=['object'])\n",
    "categorical_features"
   ]
  },
  {
   "cell_type": "code",
   "execution_count": null,
   "id": "a6475b87",
   "metadata": {},
   "outputs": [],
   "source": [
    "\n",
    "#label = df_listings[\"reviews_per_month\"]\n",
    "label = df_listings[\"EstimatedIncome\"]\n",
    "\n",
    "for col in numeric_features:\n",
    "    feature = df_listings[col]\n",
    "    correlation = feature.corr(label)\n",
    "    if correlation > 0.3:\n",
    "        fig = plt.figure(figsize=(9, 6))\n",
    "        ax = fig.gca()\n",
    "        plt.scatter(x=feature, y=label)\n",
    "        plt.xlabel(col)\n",
    "        plt.ylabel(\"Income\")\n",
    "        ax.set_title('Income ' + col + '- correlation: ' + str(correlation))\n",
    "plt.show()"
   ]
  },
  {
   "cell_type": "code",
   "execution_count": null,
   "id": "ce0a9f43",
   "metadata": {},
   "outputs": [],
   "source": [
    "#categorical features\n",
    "\n",
    "for col in categorical_features:\n",
    "    fig = plt.figure(figsize=(9, 6))\n",
    "    ax = fig.gca()\n",
    "    df_listings.boxplot(column = 'EstimatedIncome', by = col, ax = ax)\n",
    "    ax.set_title('Label by ' + col)\n",
    "    ax.set_ylabel(\"income\")\n",
    "plt.show()"
   ]
  }
 ],
 "metadata": {
  "kernelspec": {
   "display_name": "Python 3 (ipykernel)",
   "language": "python",
   "name": "python3"
  },
  "language_info": {
   "codemirror_mode": {
    "name": "ipython",
    "version": 3
   },
   "file_extension": ".py",
   "mimetype": "text/x-python",
   "name": "python",
   "nbconvert_exporter": "python",
   "pygments_lexer": "ipython3",
   "version": "3.9.12"
  }
 },
 "nbformat": 4,
 "nbformat_minor": 5
}
