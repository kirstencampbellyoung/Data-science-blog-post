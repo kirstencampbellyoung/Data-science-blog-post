{
 "cells": [
  {
   "cell_type": "markdown",
   "id": "f601700a",
   "metadata": {},
   "source": [
    "# What does my target market want"
   ]
  },
  {
   "cell_type": "code",
   "execution_count": null,
   "id": "87faec8a",
   "metadata": {},
   "outputs": [],
   "source": [
    "df_listings = pd.read_csv('./listings.csv')\n",
    "df_listings.info()"
   ]
  },
  {
   "cell_type": "code",
   "execution_count": null,
   "id": "c85cc9f7",
   "metadata": {},
   "outputs": [],
   "source": [
    "#Take a look at the amenities of the current listings\n",
    "df_amenities = df_listings['amenities'].value_counts().reset_index()\n",
    "df_amenities.head()"
   ]
  },
  {
   "cell_type": "code",
   "execution_count": null,
   "id": "5ecf786b",
   "metadata": {},
   "outputs": [],
   "source": [
    "# The items are grouped together if the listing contains more than one amenity. \n",
    "# We need to clean this up by plsitting the list items into rows\n",
    "df_listings['amenities'] = df_listings['amenities'].str.replace('\"', '')\n",
    "df_listings['amenities'] = df_listings['amenities'].str.replace('{', '')\n",
    "df_listings['amenities'] = df_listings['amenities'].str.replace('}', '')"
   ]
  },
  {
   "cell_type": "code",
   "execution_count": null,
   "id": "4d94af5f",
   "metadata": {},
   "outputs": [],
   "source": [
    "# Function to get total count of a column with lists\n",
    "\n",
    "def total_count(df, col):\n",
    "    \n",
    "    count_rows = df.shape[0]\n",
    "    \n",
    "    new_df = df[col].value_counts().reset_index()\n",
    "    new_df.rename(columns={'index': col, col: 'count'}, inplace=True)\n",
    "    new_df[col] = new_df[col].str.split(\",\")\n",
    "    new_df = new_df.explode(col).reset_index(drop=True)\n",
    "    new_df = new_df.groupby([col]).sum()['count'].reset_index()\n",
    "    new_df = new_df.sort_values('count', ascending=False)\n",
    "    new_df['perc'] = new_df['count']/count_rows\n",
    "    \n",
    "    return new_df"
   ]
  },
  {
   "cell_type": "code",
   "execution_count": null,
   "id": "66b3fd51",
   "metadata": {},
   "outputs": [],
   "source": [
    "df_total = total_count(df_listings, 'amenities')"
   ]
  },
  {
   "cell_type": "code",
   "execution_count": null,
   "id": "1beb9fd4",
   "metadata": {},
   "outputs": [],
   "source": [
    "# My new metric\n",
    "\n",
    "df_listings['EstimatedIncome'] = df_listings['price'] * (365-df_listings['availability_365'])\n",
    "df_listings['EstimatedIncome'] "
   ]
  },
  {
   "cell_type": "code",
   "execution_count": null,
   "id": "2c72cc37",
   "metadata": {},
   "outputs": [],
   "source": [
    "#label = df_listings[\"reviews_per_month\"]\n",
    "label = df_listings[\"EstimatedIncome\"]\n",
    "fig, ax = plt.subplots(1, 1, figsize = (9,4.5))\n",
    "\n",
    "# Plot the histogram   \n",
    "ax.hist(label, bins=100)\n",
    "ax.set_ylabel('Frequency')\n",
    "\n",
    "# Add lines for the mean, median, and mode\n",
    "ax.axvline(label.mean(), color='magenta', linestyle='dashed', linewidth=2)\n",
    "ax.axvline(label.median(), color='cyan', linestyle='dashed', linewidth=2)\n",
    "\n",
    "# Add a title to the Figure\n",
    "fig.suptitle('Estimated annual income')\n"
   ]
  },
  {
   "cell_type": "code",
   "execution_count": null,
   "id": "426be73b",
   "metadata": {},
   "outputs": [],
   "source": [
    "df_listings[\"EstimatedIncome\"].describe()"
   ]
  },
  {
   "cell_type": "code",
   "execution_count": null,
   "id": "84a6da7e",
   "metadata": {},
   "outputs": [],
   "source": [
    "#Lets check what the top 75% of people are doing/ have\n",
    "\n",
    "df_Top75 = df_listings[(df_listings[\"EstimatedIncome\"] >= 23622.500000)]\n",
    "df_Top75[\"amenities\"]"
   ]
  },
  {
   "cell_type": "code",
   "execution_count": null,
   "id": "b2325afd",
   "metadata": {},
   "outputs": [],
   "source": [
    "df_theTop = total_count(df_Top75, \"amenities\")"
   ]
  },
  {
   "cell_type": "code",
   "execution_count": null,
   "id": "19780ef9",
   "metadata": {},
   "outputs": [],
   "source": [
    "df_combined = pd.merge(df_total, df_theTop, on='amenities', how = 'inner')\n",
    "df_combined['diff'] = df_combined['perc_y'] - df_combined['perc_x']\n",
    "df_combined.sort_values('diff', ascending =False)"
   ]
  },
  {
   "cell_type": "code",
   "execution_count": null,
   "id": "f99f030a",
   "metadata": {},
   "outputs": [],
   "source": [
    "x = np.arange(len(df_combined['amenities']))\n",
    "width = 0.3\n",
    "\n",
    "labels = df_combined['amenities']\n",
    "y1 = df_combined['perc_x']\n",
    "y2 = df_combined['perc_y']\n",
    "y3 = df_combined['diff']\n",
    "\n",
    "\n",
    "fig, ax = plt.subplots()\n",
    "#bar1 = ax.bar(x - width/2, y1, width, label='Overall')\n",
    "#bar2 = ax.bar(x + width/2, y2, width, label='The top')\n",
    "bar3 = ax.bar(x + width/2, y3, width, label='The top')\n",
    "\n",
    "ax.set_ylabel('importance')\n",
    "ax.set_title('The title')\n",
    "ax.set_xticks(x, labels)\n",
    "ax.legend()\n",
    "\n",
    "#ax.bar_label(bar1)\n",
    "#ax.bar_label(bar2)\n",
    "#ax.bar_label(bar3)"
   ]
  }
 ],
 "metadata": {
  "kernelspec": {
   "display_name": "Python 3 (ipykernel)",
   "language": "python",
   "name": "python3"
  },
  "language_info": {
   "codemirror_mode": {
    "name": "ipython",
    "version": 3
   },
   "file_extension": ".py",
   "mimetype": "text/x-python",
   "name": "python",
   "nbconvert_exporter": "python",
   "pygments_lexer": "ipython3",
   "version": "3.9.12"
  }
 },
 "nbformat": 4,
 "nbformat_minor": 5
}
