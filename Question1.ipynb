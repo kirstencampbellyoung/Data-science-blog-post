{
 "cells": [
  {
   "cell_type": "markdown",
   "id": "e06e2a0a",
   "metadata": {},
   "source": [
    "# Part I: Is Seattle a good place for my AirBnB?"
   ]
  },
  {
   "cell_type": "markdown",
   "id": "16c59792",
   "metadata": {},
   "source": [
    "I want to find out if the number of listings in Seattle is growing? Is the availability of listings decreasing due to a growing demand? Is AirBnB in Seattle becoming more popular? Are some neighbourhoods more popular than others? Are people giving more ratings? "
   ]
  },
  {
   "cell_type": "markdown",
   "id": "9ff61855",
   "metadata": {},
   "source": [
    "## Step 1: Gather"
   ]
  },
  {
   "cell_type": "markdown",
   "id": "24b3ffbc",
   "metadata": {},
   "source": [
    "To answer the questions above I will be using the 'listing.csv', 'calendar.csv' and 'reviews.csv' datasets"
   ]
  },
  {
   "cell_type": "code",
   "execution_count": 1,
   "id": "a32af5ef",
   "metadata": {},
   "outputs": [],
   "source": [
    "# Import relevant packages\n",
    "import numpy as np\n",
    "import pandas as pd\n",
    "import matplotlib.pyplot as plt\n",
    "%matplotlib inline"
   ]
  },
  {
   "cell_type": "code",
   "execution_count": 2,
   "id": "5a108d59",
   "metadata": {},
   "outputs": [
    {
     "data": {
      "text/html": [
       "<div>\n",
       "<style scoped>\n",
       "    .dataframe tbody tr th:only-of-type {\n",
       "        vertical-align: middle;\n",
       "    }\n",
       "\n",
       "    .dataframe tbody tr th {\n",
       "        vertical-align: top;\n",
       "    }\n",
       "\n",
       "    .dataframe thead th {\n",
       "        text-align: right;\n",
       "    }\n",
       "</style>\n",
       "<table border=\"1\" class=\"dataframe\">\n",
       "  <thead>\n",
       "    <tr style=\"text-align: right;\">\n",
       "      <th></th>\n",
       "      <th>listing_id</th>\n",
       "      <th>date</th>\n",
       "      <th>available</th>\n",
       "      <th>price</th>\n",
       "    </tr>\n",
       "  </thead>\n",
       "  <tbody>\n",
       "    <tr>\n",
       "      <th>0</th>\n",
       "      <td>241032</td>\n",
       "      <td>2016-01-04</td>\n",
       "      <td>t</td>\n",
       "      <td>$85.00</td>\n",
       "    </tr>\n",
       "    <tr>\n",
       "      <th>1</th>\n",
       "      <td>241032</td>\n",
       "      <td>2016-01-05</td>\n",
       "      <td>t</td>\n",
       "      <td>$85.00</td>\n",
       "    </tr>\n",
       "    <tr>\n",
       "      <th>2</th>\n",
       "      <td>241032</td>\n",
       "      <td>2016-01-06</td>\n",
       "      <td>f</td>\n",
       "      <td>NaN</td>\n",
       "    </tr>\n",
       "    <tr>\n",
       "      <th>3</th>\n",
       "      <td>241032</td>\n",
       "      <td>2016-01-07</td>\n",
       "      <td>f</td>\n",
       "      <td>NaN</td>\n",
       "    </tr>\n",
       "    <tr>\n",
       "      <th>4</th>\n",
       "      <td>241032</td>\n",
       "      <td>2016-01-08</td>\n",
       "      <td>f</td>\n",
       "      <td>NaN</td>\n",
       "    </tr>\n",
       "  </tbody>\n",
       "</table>\n",
       "</div>"
      ],
      "text/plain": [
       "   listing_id        date available   price\n",
       "0      241032  2016-01-04         t  $85.00\n",
       "1      241032  2016-01-05         t  $85.00\n",
       "2      241032  2016-01-06         f     NaN\n",
       "3      241032  2016-01-07         f     NaN\n",
       "4      241032  2016-01-08         f     NaN"
      ]
     },
     "execution_count": 2,
     "metadata": {},
     "output_type": "execute_result"
    }
   ],
   "source": [
    "#Import calendar.csv\n",
    "df_calendar = pd.read_csv('./calendar.csv')\n",
    "df_calendar.head()"
   ]
  },
  {
   "cell_type": "code",
   "execution_count": 3,
   "id": "134ea736",
   "metadata": {},
   "outputs": [
    {
     "data": {
      "text/html": [
       "<div>\n",
       "<style scoped>\n",
       "    .dataframe tbody tr th:only-of-type {\n",
       "        vertical-align: middle;\n",
       "    }\n",
       "\n",
       "    .dataframe tbody tr th {\n",
       "        vertical-align: top;\n",
       "    }\n",
       "\n",
       "    .dataframe thead th {\n",
       "        text-align: right;\n",
       "    }\n",
       "</style>\n",
       "<table border=\"1\" class=\"dataframe\">\n",
       "  <thead>\n",
       "    <tr style=\"text-align: right;\">\n",
       "      <th></th>\n",
       "      <th>listing_id</th>\n",
       "      <th>id</th>\n",
       "      <th>date</th>\n",
       "      <th>reviewer_id</th>\n",
       "      <th>reviewer_name</th>\n",
       "      <th>comments</th>\n",
       "    </tr>\n",
       "  </thead>\n",
       "  <tbody>\n",
       "    <tr>\n",
       "      <th>0</th>\n",
       "      <td>7202016</td>\n",
       "      <td>38917982</td>\n",
       "      <td>2015-07-19</td>\n",
       "      <td>28943674</td>\n",
       "      <td>Bianca</td>\n",
       "      <td>Cute and cozy place. Perfect location to every...</td>\n",
       "    </tr>\n",
       "    <tr>\n",
       "      <th>1</th>\n",
       "      <td>7202016</td>\n",
       "      <td>39087409</td>\n",
       "      <td>2015-07-20</td>\n",
       "      <td>32440555</td>\n",
       "      <td>Frank</td>\n",
       "      <td>Kelly has a great room in a very central locat...</td>\n",
       "    </tr>\n",
       "    <tr>\n",
       "      <th>2</th>\n",
       "      <td>7202016</td>\n",
       "      <td>39820030</td>\n",
       "      <td>2015-07-26</td>\n",
       "      <td>37722850</td>\n",
       "      <td>Ian</td>\n",
       "      <td>Very spacious apartment, and in a great neighb...</td>\n",
       "    </tr>\n",
       "    <tr>\n",
       "      <th>3</th>\n",
       "      <td>7202016</td>\n",
       "      <td>40813543</td>\n",
       "      <td>2015-08-02</td>\n",
       "      <td>33671805</td>\n",
       "      <td>George</td>\n",
       "      <td>Close to Seattle Center and all it has to offe...</td>\n",
       "    </tr>\n",
       "    <tr>\n",
       "      <th>4</th>\n",
       "      <td>7202016</td>\n",
       "      <td>41986501</td>\n",
       "      <td>2015-08-10</td>\n",
       "      <td>34959538</td>\n",
       "      <td>Ming</td>\n",
       "      <td>Kelly was a great host and very accommodating ...</td>\n",
       "    </tr>\n",
       "  </tbody>\n",
       "</table>\n",
       "</div>"
      ],
      "text/plain": [
       "   listing_id        id        date  reviewer_id reviewer_name  \\\n",
       "0     7202016  38917982  2015-07-19     28943674        Bianca   \n",
       "1     7202016  39087409  2015-07-20     32440555         Frank   \n",
       "2     7202016  39820030  2015-07-26     37722850           Ian   \n",
       "3     7202016  40813543  2015-08-02     33671805        George   \n",
       "4     7202016  41986501  2015-08-10     34959538          Ming   \n",
       "\n",
       "                                            comments  \n",
       "0  Cute and cozy place. Perfect location to every...  \n",
       "1  Kelly has a great room in a very central locat...  \n",
       "2  Very spacious apartment, and in a great neighb...  \n",
       "3  Close to Seattle Center and all it has to offe...  \n",
       "4  Kelly was a great host and very accommodating ...  "
      ]
     },
     "execution_count": 3,
     "metadata": {},
     "output_type": "execute_result"
    }
   ],
   "source": [
    "#Import reviews.csv\n",
    "df_reviews = pd.read_csv('./reviews.csv')\n",
    "df_reviews.head()"
   ]
  },
  {
   "cell_type": "code",
   "execution_count": 4,
   "id": "685c049f",
   "metadata": {},
   "outputs": [
    {
     "data": {
      "text/html": [
       "<div>\n",
       "<style scoped>\n",
       "    .dataframe tbody tr th:only-of-type {\n",
       "        vertical-align: middle;\n",
       "    }\n",
       "\n",
       "    .dataframe tbody tr th {\n",
       "        vertical-align: top;\n",
       "    }\n",
       "\n",
       "    .dataframe thead th {\n",
       "        text-align: right;\n",
       "    }\n",
       "</style>\n",
       "<table border=\"1\" class=\"dataframe\">\n",
       "  <thead>\n",
       "    <tr style=\"text-align: right;\">\n",
       "      <th></th>\n",
       "      <th>listing_id</th>\n",
       "      <th>neighbourhood_group_cleansed</th>\n",
       "    </tr>\n",
       "  </thead>\n",
       "  <tbody>\n",
       "    <tr>\n",
       "      <th>0</th>\n",
       "      <td>241032</td>\n",
       "      <td>Queen Anne</td>\n",
       "    </tr>\n",
       "    <tr>\n",
       "      <th>1</th>\n",
       "      <td>953595</td>\n",
       "      <td>Queen Anne</td>\n",
       "    </tr>\n",
       "    <tr>\n",
       "      <th>2</th>\n",
       "      <td>3308979</td>\n",
       "      <td>Queen Anne</td>\n",
       "    </tr>\n",
       "    <tr>\n",
       "      <th>3</th>\n",
       "      <td>7421966</td>\n",
       "      <td>Queen Anne</td>\n",
       "    </tr>\n",
       "    <tr>\n",
       "      <th>4</th>\n",
       "      <td>278830</td>\n",
       "      <td>Queen Anne</td>\n",
       "    </tr>\n",
       "  </tbody>\n",
       "</table>\n",
       "</div>"
      ],
      "text/plain": [
       "   listing_id neighbourhood_group_cleansed\n",
       "0      241032                   Queen Anne\n",
       "1      953595                   Queen Anne\n",
       "2     3308979                   Queen Anne\n",
       "3     7421966                   Queen Anne\n",
       "4      278830                   Queen Anne"
      ]
     },
     "execution_count": 4,
     "metadata": {},
     "output_type": "execute_result"
    }
   ],
   "source": [
    "#Import listings.csv (only the neighbourhood column)\n",
    "df_listings = pd.read_csv('./listings.csv')\n",
    "df_listings.rename(columns={'id': \"listing_id\"}, inplace=True)\n",
    "df_listings = df_listings[['listing_id', 'neighbourhood_group_cleansed']]\n",
    "df_listings.head()"
   ]
  },
  {
   "cell_type": "code",
   "execution_count": 5,
   "id": "95a6fda6",
   "metadata": {},
   "outputs": [
    {
     "data": {
      "text/html": [
       "<div>\n",
       "<style scoped>\n",
       "    .dataframe tbody tr th:only-of-type {\n",
       "        vertical-align: middle;\n",
       "    }\n",
       "\n",
       "    .dataframe tbody tr th {\n",
       "        vertical-align: top;\n",
       "    }\n",
       "\n",
       "    .dataframe thead th {\n",
       "        text-align: right;\n",
       "    }\n",
       "</style>\n",
       "<table border=\"1\" class=\"dataframe\">\n",
       "  <thead>\n",
       "    <tr style=\"text-align: right;\">\n",
       "      <th></th>\n",
       "      <th>listing_id</th>\n",
       "      <th>date</th>\n",
       "      <th>available</th>\n",
       "      <th>price</th>\n",
       "      <th>neighbourhood_group_cleansed</th>\n",
       "    </tr>\n",
       "  </thead>\n",
       "  <tbody>\n",
       "    <tr>\n",
       "      <th>0</th>\n",
       "      <td>241032</td>\n",
       "      <td>2016-01-04</td>\n",
       "      <td>t</td>\n",
       "      <td>$85.00</td>\n",
       "      <td>Queen Anne</td>\n",
       "    </tr>\n",
       "    <tr>\n",
       "      <th>1</th>\n",
       "      <td>241032</td>\n",
       "      <td>2016-01-05</td>\n",
       "      <td>t</td>\n",
       "      <td>$85.00</td>\n",
       "      <td>Queen Anne</td>\n",
       "    </tr>\n",
       "    <tr>\n",
       "      <th>2</th>\n",
       "      <td>241032</td>\n",
       "      <td>2016-01-06</td>\n",
       "      <td>f</td>\n",
       "      <td>NaN</td>\n",
       "      <td>Queen Anne</td>\n",
       "    </tr>\n",
       "    <tr>\n",
       "      <th>3</th>\n",
       "      <td>241032</td>\n",
       "      <td>2016-01-07</td>\n",
       "      <td>f</td>\n",
       "      <td>NaN</td>\n",
       "      <td>Queen Anne</td>\n",
       "    </tr>\n",
       "    <tr>\n",
       "      <th>4</th>\n",
       "      <td>241032</td>\n",
       "      <td>2016-01-08</td>\n",
       "      <td>f</td>\n",
       "      <td>NaN</td>\n",
       "      <td>Queen Anne</td>\n",
       "    </tr>\n",
       "  </tbody>\n",
       "</table>\n",
       "</div>"
      ],
      "text/plain": [
       "   listing_id        date available   price neighbourhood_group_cleansed\n",
       "0      241032  2016-01-04         t  $85.00                   Queen Anne\n",
       "1      241032  2016-01-05         t  $85.00                   Queen Anne\n",
       "2      241032  2016-01-06         f     NaN                   Queen Anne\n",
       "3      241032  2016-01-07         f     NaN                   Queen Anne\n",
       "4      241032  2016-01-08         f     NaN                   Queen Anne"
      ]
     },
     "execution_count": 5,
     "metadata": {},
     "output_type": "execute_result"
    }
   ],
   "source": [
    "# Join the listings table to the calendar table to bring in the neighbourhood information \n",
    "df_calendar = pd.merge(df_calendar, df_listings, on='listing_id', how = 'left')\n",
    "df_calendar.head()"
   ]
  },
  {
   "cell_type": "markdown",
   "id": "8f5e86d0",
   "metadata": {},
   "source": [
    "# Step 2: Assess"
   ]
  },
  {
   "cell_type": "markdown",
   "id": "6cd82a21",
   "metadata": {},
   "source": [
    "I'd like to see if the popularity of AirBnb is growing over time in Seattle. Lets see what data I have to work with."
   ]
  },
  {
   "cell_type": "code",
   "execution_count": 6,
   "id": "ac5a404b",
   "metadata": {},
   "outputs": [
    {
     "name": "stdout",
     "output_type": "stream",
     "text": [
      "<class 'pandas.core.frame.DataFrame'>\n",
      "Int64Index: 1393570 entries, 0 to 1393569\n",
      "Data columns (total 5 columns):\n",
      " #   Column                        Non-Null Count    Dtype \n",
      "---  ------                        --------------    ----- \n",
      " 0   listing_id                    1393570 non-null  int64 \n",
      " 1   date                          1393570 non-null  object\n",
      " 2   available                     1393570 non-null  object\n",
      " 3   price                         934542 non-null   object\n",
      " 4   neighbourhood_group_cleansed  1393570 non-null  object\n",
      "dtypes: int64(1), object(4)\n",
      "memory usage: 63.8+ MB\n"
     ]
    }
   ],
   "source": [
    "df_calendar.info()"
   ]
  },
  {
   "cell_type": "markdown",
   "id": "65541f0e",
   "metadata": {},
   "source": [
    "I can use this data to see the availability of listings over time and if there is a difference between neighbourhoods. I will need to change the datatypes of the 'date' and 'available' columns. "
   ]
  },
  {
   "cell_type": "code",
   "execution_count": 7,
   "id": "3e1a8754",
   "metadata": {},
   "outputs": [
    {
     "name": "stdout",
     "output_type": "stream",
     "text": [
      "<class 'pandas.core.frame.DataFrame'>\n",
      "RangeIndex: 84849 entries, 0 to 84848\n",
      "Data columns (total 6 columns):\n",
      " #   Column         Non-Null Count  Dtype \n",
      "---  ------         --------------  ----- \n",
      " 0   listing_id     84849 non-null  int64 \n",
      " 1   id             84849 non-null  int64 \n",
      " 2   date           84849 non-null  object\n",
      " 3   reviewer_id    84849 non-null  int64 \n",
      " 4   reviewer_name  84849 non-null  object\n",
      " 5   comments       84831 non-null  object\n",
      "dtypes: int64(3), object(3)\n",
      "memory usage: 3.9+ MB\n"
     ]
    }
   ],
   "source": [
    "df_reviews.info()"
   ]
  },
  {
   "cell_type": "markdown",
   "id": "a4b166eb",
   "metadata": {},
   "source": [
    "I can use this dataset to determine if number of ratings is growing over time and therefore the popularity of AirBnbs in Seattle. I will need to change the datatypes of the 'date' column. "
   ]
  },
  {
   "cell_type": "markdown",
   "id": "8c782359",
   "metadata": {},
   "source": [
    "# Step 3: Clean"
   ]
  },
  {
   "cell_type": "code",
   "execution_count": 8,
   "id": "78f12b45",
   "metadata": {},
   "outputs": [],
   "source": [
    "# Convert 'date' column in calendar to date format\n",
    "df_calendar[\"date\"] = pd.to_datetime(df_calendar[\"date\"])"
   ]
  },
  {
   "cell_type": "code",
   "execution_count": 9,
   "id": "84881507",
   "metadata": {},
   "outputs": [],
   "source": [
    "# Convert 'date' column in reviews to date format\n",
    "df_reviews[\"date\"] = pd.to_datetime(df_reviews[\"date\"])\n",
    "\n",
    "# Add columns to differentiate Month and year\n",
    "df_reviews[\"month\"] = pd.DatetimeIndex(df_reviews['date']).month\n",
    "df_reviews[\"year\"] = pd.DatetimeIndex(df_reviews['date']).year"
   ]
  },
  {
   "cell_type": "code",
   "execution_count": 10,
   "id": "8f73ac84",
   "metadata": {},
   "outputs": [],
   "source": [
    "# Add columns to differentiate Month and year\n",
    "df_calendar[\"month\"] = pd.DatetimeIndex(df_calendar['date']).month\n",
    "df_calendar[\"year\"] = pd.DatetimeIndex(df_calendar['date']).year"
   ]
  },
  {
   "cell_type": "code",
   "execution_count": 11,
   "id": "46342b31",
   "metadata": {},
   "outputs": [],
   "source": [
    "# Clean 'avaiable' column for analysis\n",
    "df_calendar[\"available\"] = df_calendar[\"available\"].replace({'t': 0, 'f': 1})"
   ]
  },
  {
   "cell_type": "code",
   "execution_count": 12,
   "id": "3b1a6e91",
   "metadata": {},
   "outputs": [
    {
     "data": {
      "text/html": [
       "<div>\n",
       "<style scoped>\n",
       "    .dataframe tbody tr th:only-of-type {\n",
       "        vertical-align: middle;\n",
       "    }\n",
       "\n",
       "    .dataframe tbody tr th {\n",
       "        vertical-align: top;\n",
       "    }\n",
       "\n",
       "    .dataframe thead th {\n",
       "        text-align: right;\n",
       "    }\n",
       "</style>\n",
       "<table border=\"1\" class=\"dataframe\">\n",
       "  <thead>\n",
       "    <tr style=\"text-align: right;\">\n",
       "      <th></th>\n",
       "      <th>listing_id</th>\n",
       "      <th>date</th>\n",
       "      <th>available</th>\n",
       "      <th>price</th>\n",
       "      <th>neighbourhood_group_cleansed</th>\n",
       "      <th>month</th>\n",
       "      <th>year</th>\n",
       "    </tr>\n",
       "  </thead>\n",
       "  <tbody>\n",
       "    <tr>\n",
       "      <th>0</th>\n",
       "      <td>241032</td>\n",
       "      <td>2016-01-04</td>\n",
       "      <td>0</td>\n",
       "      <td>$85.00</td>\n",
       "      <td>Queen Anne</td>\n",
       "      <td>1</td>\n",
       "      <td>2016</td>\n",
       "    </tr>\n",
       "    <tr>\n",
       "      <th>1</th>\n",
       "      <td>241032</td>\n",
       "      <td>2016-01-05</td>\n",
       "      <td>0</td>\n",
       "      <td>$85.00</td>\n",
       "      <td>Queen Anne</td>\n",
       "      <td>1</td>\n",
       "      <td>2016</td>\n",
       "    </tr>\n",
       "    <tr>\n",
       "      <th>2</th>\n",
       "      <td>241032</td>\n",
       "      <td>2016-01-06</td>\n",
       "      <td>1</td>\n",
       "      <td>NaN</td>\n",
       "      <td>Queen Anne</td>\n",
       "      <td>1</td>\n",
       "      <td>2016</td>\n",
       "    </tr>\n",
       "    <tr>\n",
       "      <th>3</th>\n",
       "      <td>241032</td>\n",
       "      <td>2016-01-07</td>\n",
       "      <td>1</td>\n",
       "      <td>NaN</td>\n",
       "      <td>Queen Anne</td>\n",
       "      <td>1</td>\n",
       "      <td>2016</td>\n",
       "    </tr>\n",
       "    <tr>\n",
       "      <th>4</th>\n",
       "      <td>241032</td>\n",
       "      <td>2016-01-08</td>\n",
       "      <td>1</td>\n",
       "      <td>NaN</td>\n",
       "      <td>Queen Anne</td>\n",
       "      <td>1</td>\n",
       "      <td>2016</td>\n",
       "    </tr>\n",
       "  </tbody>\n",
       "</table>\n",
       "</div>"
      ],
      "text/plain": [
       "   listing_id       date  available   price neighbourhood_group_cleansed  \\\n",
       "0      241032 2016-01-04          0  $85.00                   Queen Anne   \n",
       "1      241032 2016-01-05          0  $85.00                   Queen Anne   \n",
       "2      241032 2016-01-06          1     NaN                   Queen Anne   \n",
       "3      241032 2016-01-07          1     NaN                   Queen Anne   \n",
       "4      241032 2016-01-08          1     NaN                   Queen Anne   \n",
       "\n",
       "   month  year  \n",
       "0      1  2016  \n",
       "1      1  2016  \n",
       "2      1  2016  \n",
       "3      1  2016  \n",
       "4      1  2016  "
      ]
     },
     "execution_count": 12,
     "metadata": {},
     "output_type": "execute_result"
    }
   ],
   "source": [
    "df_calendar.head()"
   ]
  },
  {
   "cell_type": "markdown",
   "id": "2032d72e",
   "metadata": {},
   "source": [
    "# Step 4: Analyze"
   ]
  },
  {
   "cell_type": "code",
   "execution_count": 13,
   "id": "ed580c83",
   "metadata": {},
   "outputs": [
    {
     "name": "stderr",
     "output_type": "stream",
     "text": [
      "/var/folders/67/jgz6df654fv9n3yp6bkjl9f8ry5zws/T/ipykernel_12716/3721990097.py:1: FutureWarning: Treating datetime data as categorical rather than numeric in `.describe` is deprecated and will be removed in a future version of pandas. Specify `datetime_is_numeric=True` to silence this warning and adopt the future behavior now.\n",
      "  df_calendar[\"date\"].describe()\n"
     ]
    },
    {
     "data": {
      "text/plain": [
       "count                 1393570\n",
       "unique                    365\n",
       "top       2016-01-04 00:00:00\n",
       "freq                     3818\n",
       "first     2016-01-04 00:00:00\n",
       "last      2017-01-02 00:00:00\n",
       "Name: date, dtype: object"
      ]
     },
     "execution_count": 13,
     "metadata": {},
     "output_type": "execute_result"
    }
   ],
   "source": [
    "df_calendar[\"date\"].describe()"
   ]
  },
  {
   "cell_type": "markdown",
   "id": "9654e68a",
   "metadata": {},
   "source": [
    "I only have calendar data for one year - from the 4th Jan 2016 to 2nd Jan 2017. So let's see if the listings are growing over the course of the year. "
   ]
  },
  {
   "cell_type": "code",
   "execution_count": 14,
   "id": "f45ceb9e",
   "metadata": {},
   "outputs": [
    {
     "data": {
      "text/plain": [
       "<AxesSubplot:xlabel='year,month'>"
      ]
     },
     "execution_count": 14,
     "metadata": {},
     "output_type": "execute_result"
    },
    {
     "data": {
      "image/png": "[encoded data removed]",
      "text/plain": [
       "<Figure size 432x288 with 1 Axes>"
      ]
     },
     "metadata": {
      "needs_background": "light"
     },
     "output_type": "display_data"
    }
   ],
   "source": [
    "# View number of listings over the year\n",
    "df_calendar.groupby([\"year\", \"month\"]).agg({\"listing_id\": np.sum, \"listing_id\": pd.Series.nunique}).plot(kind=\"bar\")"
   ]
  },
  {
   "cell_type": "markdown",
   "id": "6a4cb2e2",
   "metadata": {},
   "source": [
    "The number of listings has actually remained the same throughout the year. So we need to look at another way of determining the AirBnB trend.\n",
    "\n",
    "We can look at how the Occupancy Rate changes over the year. If the number of listings booked (listing not available) out of the total listings for a given month is increasing, then we will know if AirBnBs are becoming more popular. \n",
    "\n",
    "$Occupancy = \\frac{ListingsBooked}{ListingsTotal}$"
   ]
  },
  {
   "cell_type": "code",
   "execution_count": 15,
   "id": "41d959e8",
   "metadata": {
    "scrolled": false
   },
   "outputs": [
    {
     "data": {
      "text/html": [
       "<div>\n",
       "<style scoped>\n",
       "    .dataframe tbody tr th:only-of-type {\n",
       "        vertical-align: middle;\n",
       "    }\n",
       "\n",
       "    .dataframe tbody tr th {\n",
       "        vertical-align: top;\n",
       "    }\n",
       "\n",
       "    .dataframe thead th {\n",
       "        text-align: right;\n",
       "    }\n",
       "</style>\n",
       "<table border=\"1\" class=\"dataframe\">\n",
       "  <thead>\n",
       "    <tr style=\"text-align: right;\">\n",
       "      <th></th>\n",
       "      <th>year</th>\n",
       "      <th>month</th>\n",
       "      <th>Occupancy%</th>\n",
       "      <th>YearMonth</th>\n",
       "    </tr>\n",
       "  </thead>\n",
       "  <tbody>\n",
       "    <tr>\n",
       "      <th>0</th>\n",
       "      <td>2016</td>\n",
       "      <td>1</td>\n",
       "      <td>0.445867</td>\n",
       "      <td>2016_1</td>\n",
       "    </tr>\n",
       "    <tr>\n",
       "      <th>1</th>\n",
       "      <td>2016</td>\n",
       "      <td>2</td>\n",
       "      <td>0.337792</td>\n",
       "      <td>2016_2</td>\n",
       "    </tr>\n",
       "    <tr>\n",
       "      <th>2</th>\n",
       "      <td>2016</td>\n",
       "      <td>3</td>\n",
       "      <td>0.290813</td>\n",
       "      <td>2016_3</td>\n",
       "    </tr>\n",
       "    <tr>\n",
       "      <th>3</th>\n",
       "      <td>2016</td>\n",
       "      <td>4</td>\n",
       "      <td>0.336153</td>\n",
       "      <td>2016_4</td>\n",
       "    </tr>\n",
       "    <tr>\n",
       "      <th>4</th>\n",
       "      <td>2016</td>\n",
       "      <td>5</td>\n",
       "      <td>0.324330</td>\n",
       "      <td>2016_5</td>\n",
       "    </tr>\n",
       "    <tr>\n",
       "      <th>5</th>\n",
       "      <td>2016</td>\n",
       "      <td>6</td>\n",
       "      <td>0.325616</td>\n",
       "      <td>2016_6</td>\n",
       "    </tr>\n",
       "    <tr>\n",
       "      <th>6</th>\n",
       "      <td>2016</td>\n",
       "      <td>7</td>\n",
       "      <td>0.372903</td>\n",
       "      <td>2016_7</td>\n",
       "    </tr>\n",
       "    <tr>\n",
       "      <th>7</th>\n",
       "      <td>2016</td>\n",
       "      <td>8</td>\n",
       "      <td>0.354949</td>\n",
       "      <td>2016_8</td>\n",
       "    </tr>\n",
       "    <tr>\n",
       "      <th>8</th>\n",
       "      <td>2016</td>\n",
       "      <td>9</td>\n",
       "      <td>0.325598</td>\n",
       "      <td>2016_9</td>\n",
       "    </tr>\n",
       "    <tr>\n",
       "      <th>9</th>\n",
       "      <td>2016</td>\n",
       "      <td>10</td>\n",
       "      <td>0.303486</td>\n",
       "      <td>2016_10</td>\n",
       "    </tr>\n",
       "    <tr>\n",
       "      <th>10</th>\n",
       "      <td>2016</td>\n",
       "      <td>11</td>\n",
       "      <td>0.286014</td>\n",
       "      <td>2016_11</td>\n",
       "    </tr>\n",
       "    <tr>\n",
       "      <th>11</th>\n",
       "      <td>2016</td>\n",
       "      <td>12</td>\n",
       "      <td>0.264427</td>\n",
       "      <td>2016_12</td>\n",
       "    </tr>\n",
       "    <tr>\n",
       "      <th>12</th>\n",
       "      <td>2017</td>\n",
       "      <td>1</td>\n",
       "      <td>0.253798</td>\n",
       "      <td>2017_1</td>\n",
       "    </tr>\n",
       "  </tbody>\n",
       "</table>\n",
       "</div>"
      ],
      "text/plain": [
       "    year  month  Occupancy% YearMonth\n",
       "0   2016      1    0.445867    2016_1\n",
       "1   2016      2    0.337792    2016_2\n",
       "2   2016      3    0.290813    2016_3\n",
       "3   2016      4    0.336153    2016_4\n",
       "4   2016      5    0.324330    2016_5\n",
       "5   2016      6    0.325616    2016_6\n",
       "6   2016      7    0.372903    2016_7\n",
       "7   2016      8    0.354949    2016_8\n",
       "8   2016      9    0.325598    2016_9\n",
       "9   2016     10    0.303486   2016_10\n",
       "10  2016     11    0.286014   2016_11\n",
       "11  2016     12    0.264427   2016_12\n",
       "12  2017      1    0.253798    2017_1"
      ]
     },
     "execution_count": 15,
     "metadata": {},
     "output_type": "execute_result"
    }
   ],
   "source": [
    "# Determine occupancy rate \n",
    "\n",
    "df_Occupancy = (df_calendar.groupby([\"year\", \"month\"]).sum()[\"available\"]/df_calendar.groupby([\"year\", \"month\"]).count()[\"listing_id\"]).reset_index()\n",
    "df_Occupancy.rename(columns={0: \"Occupancy%\"}, inplace=True)\n",
    "df_Occupancy['YearMonth'] = df_Occupancy.apply(lambda row: str(row['year'].astype(int)) + \"_\" + str(row['month'].astype(int)), axis = 1)\n",
    "df_Occupancy"
   ]
  },
  {
   "cell_type": "markdown",
   "id": "7417c57c",
   "metadata": {},
   "source": [
    "It would also be useful to understand if there is a difference in occupancy rates for each neighbourhood"
   ]
  },
  {
   "cell_type": "code",
   "execution_count": 16,
   "id": "55141d4d",
   "metadata": {},
   "outputs": [
    {
     "data": {
      "text/html": [
       "<div>\n",
       "<style scoped>\n",
       "    .dataframe tbody tr th:only-of-type {\n",
       "        vertical-align: middle;\n",
       "    }\n",
       "\n",
       "    .dataframe tbody tr th {\n",
       "        vertical-align: top;\n",
       "    }\n",
       "\n",
       "    .dataframe thead th {\n",
       "        text-align: right;\n",
       "    }\n",
       "</style>\n",
       "<table border=\"1\" class=\"dataframe\">\n",
       "  <thead>\n",
       "    <tr style=\"text-align: right;\">\n",
       "      <th></th>\n",
       "      <th>year</th>\n",
       "      <th>month</th>\n",
       "      <th>neighbourhood_group_cleansed</th>\n",
       "      <th>Occupancy%</th>\n",
       "      <th>YearMonth</th>\n",
       "    </tr>\n",
       "  </thead>\n",
       "  <tbody>\n",
       "    <tr>\n",
       "      <th>0</th>\n",
       "      <td>2016</td>\n",
       "      <td>1</td>\n",
       "      <td>Ballard</td>\n",
       "      <td>0.484161</td>\n",
       "      <td>2016_1</td>\n",
       "    </tr>\n",
       "    <tr>\n",
       "      <th>1</th>\n",
       "      <td>2016</td>\n",
       "      <td>1</td>\n",
       "      <td>Beacon Hill</td>\n",
       "      <td>0.413438</td>\n",
       "      <td>2016_1</td>\n",
       "    </tr>\n",
       "    <tr>\n",
       "      <th>2</th>\n",
       "      <td>2016</td>\n",
       "      <td>1</td>\n",
       "      <td>Capitol Hill</td>\n",
       "      <td>0.470522</td>\n",
       "      <td>2016_1</td>\n",
       "    </tr>\n",
       "    <tr>\n",
       "      <th>3</th>\n",
       "      <td>2016</td>\n",
       "      <td>1</td>\n",
       "      <td>Cascade</td>\n",
       "      <td>0.561798</td>\n",
       "      <td>2016_1</td>\n",
       "    </tr>\n",
       "    <tr>\n",
       "      <th>4</th>\n",
       "      <td>2016</td>\n",
       "      <td>1</td>\n",
       "      <td>Central Area</td>\n",
       "      <td>0.484127</td>\n",
       "      <td>2016_1</td>\n",
       "    </tr>\n",
       "    <tr>\n",
       "      <th>...</th>\n",
       "      <td>...</td>\n",
       "      <td>...</td>\n",
       "      <td>...</td>\n",
       "      <td>...</td>\n",
       "      <td>...</td>\n",
       "    </tr>\n",
       "    <tr>\n",
       "      <th>216</th>\n",
       "      <td>2017</td>\n",
       "      <td>1</td>\n",
       "      <td>Queen Anne</td>\n",
       "      <td>0.244068</td>\n",
       "      <td>2017_1</td>\n",
       "    </tr>\n",
       "    <tr>\n",
       "      <th>217</th>\n",
       "      <td>2017</td>\n",
       "      <td>1</td>\n",
       "      <td>Rainier Valley</td>\n",
       "      <td>0.248428</td>\n",
       "      <td>2017_1</td>\n",
       "    </tr>\n",
       "    <tr>\n",
       "      <th>218</th>\n",
       "      <td>2017</td>\n",
       "      <td>1</td>\n",
       "      <td>Seward Park</td>\n",
       "      <td>0.295455</td>\n",
       "      <td>2017_1</td>\n",
       "    </tr>\n",
       "    <tr>\n",
       "      <th>219</th>\n",
       "      <td>2017</td>\n",
       "      <td>1</td>\n",
       "      <td>University District</td>\n",
       "      <td>0.229508</td>\n",
       "      <td>2017_1</td>\n",
       "    </tr>\n",
       "    <tr>\n",
       "      <th>220</th>\n",
       "      <td>2017</td>\n",
       "      <td>1</td>\n",
       "      <td>West Seattle</td>\n",
       "      <td>0.266010</td>\n",
       "      <td>2017_1</td>\n",
       "    </tr>\n",
       "  </tbody>\n",
       "</table>\n",
       "<p>221 rows × 5 columns</p>\n",
       "</div>"
      ],
      "text/plain": [
       "     year  month neighbourhood_group_cleansed  Occupancy% YearMonth\n",
       "0    2016      1                      Ballard    0.484161    2016_1\n",
       "1    2016      1                  Beacon Hill    0.413438    2016_1\n",
       "2    2016      1                 Capitol Hill    0.470522    2016_1\n",
       "3    2016      1                      Cascade    0.561798    2016_1\n",
       "4    2016      1                 Central Area    0.484127    2016_1\n",
       "..    ...    ...                          ...         ...       ...\n",
       "216  2017      1                   Queen Anne    0.244068    2017_1\n",
       "217  2017      1               Rainier Valley    0.248428    2017_1\n",
       "218  2017      1                  Seward Park    0.295455    2017_1\n",
       "219  2017      1          University District    0.229508    2017_1\n",
       "220  2017      1                 West Seattle    0.266010    2017_1\n",
       "\n",
       "[221 rows x 5 columns]"
      ]
     },
     "execution_count": 16,
     "metadata": {},
     "output_type": "execute_result"
    }
   ],
   "source": [
    "# Determine occupancy rate per neighbourhood\n",
    "\n",
    "list_neighbourhoods = df_calendar['neighbourhood_group_cleansed'].unique()\n",
    "\n",
    "df_Occupancy_area = (df_calendar.groupby([\"year\", \"month\", \"neighbourhood_group_cleansed\"]).sum()[\"available\"]/df_calendar.groupby([\"year\", \"month\", \"neighbourhood_group_cleansed\"]).count()[\"listing_id\"]).reset_index()\n",
    "df_Occupancy_area.rename(columns={0: 'Occupancy%'}, inplace=True)\n",
    "df_Occupancy_area['YearMonth'] = df_Occupancy_area.apply(lambda row: str(row['year']) + \"_\" + str(row['month']), axis = 1)\n",
    "df_Occupancy_area"
   ]
  },
  {
   "cell_type": "markdown",
   "id": "37029123",
   "metadata": {},
   "source": [
    "Another way we can see how the popularity of AirBnbs in Seattle is changing is by looking at the **number of reviews coming in**."
   ]
  },
  {
   "cell_type": "code",
   "execution_count": 17,
   "id": "43a78af4",
   "metadata": {
    "scrolled": true
   },
   "outputs": [
    {
     "data": {
      "text/html": [
       "<div>\n",
       "<style scoped>\n",
       "    .dataframe tbody tr th:only-of-type {\n",
       "        vertical-align: middle;\n",
       "    }\n",
       "\n",
       "    .dataframe tbody tr th {\n",
       "        vertical-align: top;\n",
       "    }\n",
       "\n",
       "    .dataframe thead th {\n",
       "        text-align: right;\n",
       "    }\n",
       "</style>\n",
       "<table border=\"1\" class=\"dataframe\">\n",
       "  <thead>\n",
       "    <tr style=\"text-align: right;\">\n",
       "      <th></th>\n",
       "      <th>year</th>\n",
       "      <th>month</th>\n",
       "      <th>Count</th>\n",
       "      <th>YearMonth</th>\n",
       "    </tr>\n",
       "  </thead>\n",
       "  <tbody>\n",
       "    <tr>\n",
       "      <th>0</th>\n",
       "      <td>2009</td>\n",
       "      <td>6</td>\n",
       "      <td>2</td>\n",
       "      <td>2009_6</td>\n",
       "    </tr>\n",
       "    <tr>\n",
       "      <th>1</th>\n",
       "      <td>2009</td>\n",
       "      <td>7</td>\n",
       "      <td>1</td>\n",
       "      <td>2009_7</td>\n",
       "    </tr>\n",
       "    <tr>\n",
       "      <th>2</th>\n",
       "      <td>2009</td>\n",
       "      <td>8</td>\n",
       "      <td>1</td>\n",
       "      <td>2009_8</td>\n",
       "    </tr>\n",
       "    <tr>\n",
       "      <th>3</th>\n",
       "      <td>2009</td>\n",
       "      <td>9</td>\n",
       "      <td>2</td>\n",
       "      <td>2009_9</td>\n",
       "    </tr>\n",
       "    <tr>\n",
       "      <th>4</th>\n",
       "      <td>2009</td>\n",
       "      <td>10</td>\n",
       "      <td>6</td>\n",
       "      <td>2009_10</td>\n",
       "    </tr>\n",
       "    <tr>\n",
       "      <th>...</th>\n",
       "      <td>...</td>\n",
       "      <td>...</td>\n",
       "      <td>...</td>\n",
       "      <td>...</td>\n",
       "    </tr>\n",
       "    <tr>\n",
       "      <th>74</th>\n",
       "      <td>2015</td>\n",
       "      <td>9</td>\n",
       "      <td>6985</td>\n",
       "      <td>2015_9</td>\n",
       "    </tr>\n",
       "    <tr>\n",
       "      <th>75</th>\n",
       "      <td>2015</td>\n",
       "      <td>10</td>\n",
       "      <td>5536</td>\n",
       "      <td>2015_10</td>\n",
       "    </tr>\n",
       "    <tr>\n",
       "      <th>76</th>\n",
       "      <td>2015</td>\n",
       "      <td>11</td>\n",
       "      <td>3998</td>\n",
       "      <td>2015_11</td>\n",
       "    </tr>\n",
       "    <tr>\n",
       "      <th>77</th>\n",
       "      <td>2015</td>\n",
       "      <td>12</td>\n",
       "      <td>3351</td>\n",
       "      <td>2015_12</td>\n",
       "    </tr>\n",
       "    <tr>\n",
       "      <th>78</th>\n",
       "      <td>2016</td>\n",
       "      <td>1</td>\n",
       "      <td>223</td>\n",
       "      <td>2016_1</td>\n",
       "    </tr>\n",
       "  </tbody>\n",
       "</table>\n",
       "<p>79 rows × 4 columns</p>\n",
       "</div>"
      ],
      "text/plain": [
       "    year  month  Count YearMonth\n",
       "0   2009      6      2    2009_6\n",
       "1   2009      7      1    2009_7\n",
       "2   2009      8      1    2009_8\n",
       "3   2009      9      2    2009_9\n",
       "4   2009     10      6   2009_10\n",
       "..   ...    ...    ...       ...\n",
       "74  2015      9   6985    2015_9\n",
       "75  2015     10   5536   2015_10\n",
       "76  2015     11   3998   2015_11\n",
       "77  2015     12   3351   2015_12\n",
       "78  2016      1    223    2016_1\n",
       "\n",
       "[79 rows x 4 columns]"
      ]
     },
     "execution_count": 17,
     "metadata": {},
     "output_type": "execute_result"
    }
   ],
   "source": [
    "# Determine if number of reviews is increasing over time\n",
    "df_reviewCount = df_reviews.groupby(['year','month']).count()['id'].reset_index()\n",
    "df_reviewCount.rename(columns = {'id': 'Count'}, inplace=True)\n",
    "df_reviewCount['YearMonth'] = df_reviewCount.apply(lambda row: str(row['year']) + \"_\" + str(row['month']), axis = 1)\n",
    "df_reviewCount"
   ]
  },
  {
   "cell_type": "markdown",
   "id": "c603e267",
   "metadata": {},
   "source": [
    "# Step 5: Visualize"
   ]
  },
  {
   "cell_type": "code",
   "execution_count": 18,
   "id": "942afe07",
   "metadata": {},
   "outputs": [
    {
     "data": {
      "image/png": "[encoded data removed]",
      "text/plain": [
       "<Figure size 1440x720 with 1 Axes>"
      ]
     },
     "metadata": {
      "needs_background": "light"
     },
     "output_type": "display_data"
    }
   ],
   "source": [
    "# Plot Occupancy over the year\n",
    "\n",
    "fig = plt.figure(figsize=(20,10))\n",
    "ax = plt.subplot(111)\n",
    "\n",
    "x = df_Occupancy['YearMonth']\n",
    "y = df_Occupancy['Occupancy%']\n",
    "\n",
    "plt.bar(x,y)\n",
    "plt.xlabel('Month')\n",
    "plt.ylabel('Occupancy %')\n",
    "plt.title('Overall occupancy % per month')\n",
    "plt.show()"
   ]
  },
  {
   "cell_type": "markdown",
   "id": "36b5d78e",
   "metadata": {},
   "source": [
    "The plot is showing clearly showing some seasonality over the year, with occupancy rate increasing in the June/ July summer. But we are also seeing an overall decreasing trend in occupancy from 2016 - 2017. Fewer people are visiting the AirBnbs towards the end of 2016. Is this trend consistent across the differernt Seattle neighbourhoods? "
   ]
  },
  {
   "cell_type": "code",
   "execution_count": 19,
   "id": "c3686b07",
   "metadata": {},
   "outputs": [
    {
     "ename": "NameError",
     "evalue": "name 'occupancy' is not defined",
     "output_type": "error",
     "traceback": [
      "\u001b[0;31m---------------------------------------------------------------------------\u001b[0m",
      "\u001b[0;31mNameError\u001b[0m                                 Traceback (most recent call last)",
      "Input \u001b[0;32mIn [19]\u001b[0m, in \u001b[0;36m<cell line: 6>\u001b[0;34m()\u001b[0m\n\u001b[1;32m      4\u001b[0m ax \u001b[38;5;241m=\u001b[39m plt\u001b[38;5;241m.\u001b[39msubplot(\u001b[38;5;241m111\u001b[39m)\n\u001b[1;32m      6\u001b[0m \u001b[38;5;28;01mfor\u001b[39;00m neighbourhood \u001b[38;5;129;01min\u001b[39;00m list_neighbourhoods:\n\u001b[0;32m----> 7\u001b[0m     x \u001b[38;5;241m=\u001b[39m \u001b[43moccupancy\u001b[49m[occupancy[\u001b[38;5;124m'\u001b[39m\u001b[38;5;124mneighbourhood_group_cleansed\u001b[39m\u001b[38;5;124m'\u001b[39m] \u001b[38;5;241m==\u001b[39m neighbourhood][\u001b[38;5;124m'\u001b[39m\u001b[38;5;124mYearMonth\u001b[39m\u001b[38;5;124m'\u001b[39m]\n\u001b[1;32m      8\u001b[0m     y \u001b[38;5;241m=\u001b[39m occupancy[occupancy[\u001b[38;5;124m'\u001b[39m\u001b[38;5;124mneighbourhood_group_cleansed\u001b[39m\u001b[38;5;124m'\u001b[39m] \u001b[38;5;241m==\u001b[39m neighbourhood][\u001b[38;5;124m'\u001b[39m\u001b[38;5;124mOccupancy\u001b[39m\u001b[38;5;124m%\u001b[39m\u001b[38;5;124m'\u001b[39m]\n\u001b[1;32m      9\u001b[0m     ax\u001b[38;5;241m.\u001b[39mplot(x, y, label \u001b[38;5;241m=\u001b[39m neighbourhood)\n",
      "\u001b[0;31mNameError\u001b[0m: name 'occupancy' is not defined"
     ]
    },
    {
     "data": {
      "image/png": "[encoded data removed]",
      "text/plain": [
       "<Figure size 1440x720 with 1 Axes>"
      ]
     },
     "metadata": {
      "needs_background": "light"
     },
     "output_type": "display_data"
    }
   ],
   "source": [
    "# Plot Occupancy per neighbourhood over the year\n",
    "\n",
    "fig = plt.figure(figsize=(20,10))\n",
    "ax = plt.subplot(111)\n",
    "\n",
    "for neighbourhood in list_neighbourhoods:\n",
    "    x = occupancy[occupancy['neighbourhood_group_cleansed'] == neighbourhood]['YearMonth']\n",
    "    y = occupancy[occupancy['neighbourhood_group_cleansed'] == neighbourhood]['Occupancy%']\n",
    "    ax.plot(x, y, label = neighbourhood)\n",
    "\n",
    "box = ax.get_position()\n",
    "ax.set_position([box.x0, box.y0, box.width * 0.8, box.height])\n",
    "ax.legend(loc='center left', bbox_to_anchor=(1, 0.5))\n",
    "\n",
    "plt.ylabel('Occupancy %')\n",
    "plt.xlabel('Month')\n",
    "plt.title('Occupancy % per neighbourhood over the year')"
   ]
  },
  {
   "cell_type": "markdown",
   "id": "588771ee",
   "metadata": {},
   "source": [
    "We are seeing the same overall decreasing trend across each of the neighbourhoods in Seattle. AirBnbs are getting less booked up as the year progresses. "
   ]
  },
  {
   "cell_type": "code",
   "execution_count": null,
   "id": "fb59c22d",
   "metadata": {},
   "outputs": [],
   "source": [
    "# Plot number of reviews over time\n",
    "\n",
    "fig = plt.figure(figsize=(20,10))\n",
    "ax = plt.subplot(111)\n",
    "\n",
    "x = df_reviewCount['YearMonth']\n",
    "y = df_reviewCount['Count']\n",
    "\n",
    "plt.bar(x,y)\n",
    "plt.xlabel('Month')\n",
    "ax.set_xticklabels(x, rotation=45)\n",
    "plt.ylabel('Count of reviews')\n",
    "plt.title('Count of reviews')\n",
    "plt.show()"
   ]
  },
  {
   "cell_type": "markdown",
   "id": "4419c415",
   "metadata": {},
   "source": [
    "Unfortunately this review data's timeframe is different to the calendar. But we are still seeing an interesting trend towards the end of 2015. We don't have the full dataset for December 2015 and January 2016, but we can clealy see the number of reviews dropping over 2015. If we assume this trend continues in 2016, it could mean that fewer people are visiting these AirBnbs as they are not being reviewed as often. "
   ]
  },
  {
   "cell_type": "markdown",
   "id": "adf7bc96",
   "metadata": {},
   "source": [
    "In conclusion, Seattle may not be the best place to list your place on AirBnb in 2017"
   ]
  }
 ],
 "metadata": {
  "kernelspec": {
   "display_name": "Python 3 (ipykernel)",
   "language": "python",
   "name": "python3"
  },
  "language_info": {
   "codemirror_mode": {
    "name": "ipython",
    "version": 3
   },
   "file_extension": ".py",
   "mimetype": "text/x-python",
   "name": "python",
   "nbconvert_exporter": "python",
   "pygments_lexer": "ipython3",
   "version": "3.9.12"
  }
 },
 "nbformat": 4,
 "nbformat_minor": 5
}
